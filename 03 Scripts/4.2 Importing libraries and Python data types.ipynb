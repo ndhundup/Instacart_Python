{
 "cells": [
  {
   "cell_type": "markdown",
   "id": "92231ead",
   "metadata": {},
   "source": [
    "# 01. Importing libraries"
   ]
  },
  {
   "cell_type": "code",
   "execution_count": 1,
   "id": "e10e2165",
   "metadata": {},
   "outputs": [],
   "source": [
    "# Import libraries\n",
    "import pandas as pd\n",
    "import numpy as np\n",
    "import os"
   ]
  },
  {
   "cell_type": "code",
   "execution_count": null,
   "id": "0737bf54",
   "metadata": {},
   "outputs": [],
   "source": [
    "# Python Data types"
   ]
  },
  {
   "cell_type": "code",
   "execution_count": null,
   "id": "c89fac0a",
   "metadata": {},
   "outputs": [],
   "source": [
    "# add up to 100"
   ]
  },
  {
   "cell_type": "code",
   "execution_count": 19,
   "id": "81950fbe",
   "metadata": {},
   "outputs": [],
   "source": [
    "x = 50"
   ]
  },
  {
   "cell_type": "code",
   "execution_count": 20,
   "id": "dd84f7b4",
   "metadata": {},
   "outputs": [],
   "source": [
    "y = 2"
   ]
  },
  {
   "cell_type": "code",
   "execution_count": 21,
   "id": "aa39599b",
   "metadata": {},
   "outputs": [
    {
     "data": {
      "text/plain": [
       "100"
      ]
     },
     "execution_count": 21,
     "metadata": {},
     "output_type": "execute_result"
    }
   ],
   "source": [
    "x * y"
   ]
  },
  {
   "cell_type": "code",
   "execution_count": 22,
   "id": "1e408401",
   "metadata": {},
   "outputs": [
    {
     "data": {
      "text/plain": [
       "100"
      ]
     },
     "execution_count": 22,
     "metadata": {},
     "output_type": "execute_result"
    }
   ],
   "source": [
    "x + x"
   ]
  },
  {
   "cell_type": "code",
   "execution_count": 24,
   "id": "b0c02c1a",
   "metadata": {},
   "outputs": [
    {
     "data": {
      "text/plain": [
       "100"
      ]
     },
     "execution_count": 24,
     "metadata": {},
     "output_type": "execute_result"
    }
   ],
   "source": [
    "25 * 4"
   ]
  },
  {
   "cell_type": "code",
   "execution_count": null,
   "id": "94093178",
   "metadata": {},
   "outputs": [],
   "source": [
    "# floats"
   ]
  },
  {
   "cell_type": "code",
   "execution_count": 25,
   "id": "c4963f71",
   "metadata": {},
   "outputs": [],
   "source": [
    "a = 2.2"
   ]
  },
  {
   "cell_type": "code",
   "execution_count": 26,
   "id": "3b6859d8",
   "metadata": {},
   "outputs": [],
   "source": [
    "b = 3.14"
   ]
  },
  {
   "cell_type": "code",
   "execution_count": 27,
   "id": "c37abfbd",
   "metadata": {},
   "outputs": [
    {
     "data": {
      "text/plain": [
       "1.4272727272727272"
      ]
     },
     "execution_count": 27,
     "metadata": {},
     "output_type": "execute_result"
    }
   ],
   "source": [
    "b/a"
   ]
  },
  {
   "cell_type": "code",
   "execution_count": null,
   "id": "11c1048d",
   "metadata": {},
   "outputs": [],
   "source": [
    "# strings"
   ]
  },
  {
   "cell_type": "code",
   "execution_count": 28,
   "id": "eea25bdb",
   "metadata": {},
   "outputs": [
    {
     "data": {
      "text/plain": [
       "'boolean'"
      ]
     },
     "execution_count": 28,
     "metadata": {},
     "output_type": "execute_result"
    }
   ],
   "source": [
    "'boo' + 'lean'"
   ]
  },
  {
   "cell_type": "code",
   "execution_count": 30,
   "id": "01cb6b4b",
   "metadata": {},
   "outputs": [
    {
     "data": {
      "text/plain": [
       "'hello world'"
      ]
     },
     "execution_count": 30,
     "metadata": {},
     "output_type": "execute_result"
    }
   ],
   "source": [
    "'hello' + ' ' + 'world'"
   ]
  },
  {
   "cell_type": "code",
   "execution_count": 32,
   "id": "405c6452",
   "metadata": {},
   "outputs": [],
   "source": [
    "ab = 'I am watching '"
   ]
  },
  {
   "cell_type": "code",
   "execution_count": 33,
   "id": "4cc08d94",
   "metadata": {},
   "outputs": [],
   "source": [
    "cd = 'Youtube.'"
   ]
  },
  {
   "cell_type": "code",
   "execution_count": 34,
   "id": "95e290d0",
   "metadata": {},
   "outputs": [
    {
     "data": {
      "text/plain": [
       "'I am watching Youtube.'"
      ]
     },
     "execution_count": 34,
     "metadata": {},
     "output_type": "execute_result"
    }
   ],
   "source": [
    "ab + cd"
   ]
  },
  {
   "cell_type": "code",
   "execution_count": null,
   "id": "23d07a11",
   "metadata": {},
   "outputs": [],
   "source": [
    "# bonus"
   ]
  },
  {
   "cell_type": "code",
   "execution_count": 35,
   "id": "6f37f86a",
   "metadata": {},
   "outputs": [
    {
     "data": {
      "text/plain": [
       "'Youtube.Youtube.Youtube.Youtube.Youtube.Youtube.Youtube.Youtube.Youtube.Youtube.Youtube.Youtube.Youtube.Youtube.Youtube.Youtube.Youtube.Youtube.Youtube.Youtube.Youtube.Youtube.Youtube.Youtube.Youtube.Youtube.Youtube.Youtube.Youtube.Youtube.Youtube.Youtube.Youtube.Youtube.Youtube.Youtube.Youtube.Youtube.Youtube.Youtube.Youtube.Youtube.Youtube.Youtube.Youtube.Youtube.Youtube.Youtube.Youtube.Youtube.Youtube.Youtube.Youtube.Youtube.Youtube.Youtube.Youtube.Youtube.Youtube.Youtube.Youtube.Youtube.Youtube.Youtube.Youtube.Youtube.Youtube.Youtube.Youtube.Youtube.Youtube.Youtube.Youtube.Youtube.Youtube.Youtube.Youtube.Youtube.Youtube.Youtube.Youtube.Youtube.Youtube.Youtube.Youtube.Youtube.Youtube.Youtube.Youtube.Youtube.Youtube.Youtube.Youtube.Youtube.Youtube.Youtube.Youtube.Youtube.Youtube.Youtube.'"
      ]
     },
     "execution_count": 35,
     "metadata": {},
     "output_type": "execute_result"
    }
   ],
   "source": [
    "cd * 100"
   ]
  },
  {
   "cell_type": "code",
   "execution_count": null,
   "id": "42e84f44",
   "metadata": {},
   "outputs": [],
   "source": []
  }
 ],
 "metadata": {
  "kernelspec": {
   "display_name": "Python 3 (ipykernel)",
   "language": "python",
   "name": "python3"
  },
  "language_info": {
   "codemirror_mode": {
    "name": "ipython",
    "version": 3
   },
   "file_extension": ".py",
   "mimetype": "text/x-python",
   "name": "python",
   "nbconvert_exporter": "python",
   "pygments_lexer": "ipython3",
   "version": "3.9.13"
  }
 },
 "nbformat": 4,
 "nbformat_minor": 5
}
